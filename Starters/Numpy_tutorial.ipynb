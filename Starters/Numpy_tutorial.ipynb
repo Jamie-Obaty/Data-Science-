{
 "cells": [
  {
   "attachments": {},
   "cell_type": "markdown",
   "id": "18329f24-ca25-4272-ab68-62496937faee",
   "metadata": {},
   "source": [
    "# NumPy packeage"
   ]
  },
  {
   "cell_type": "code",
   "execution_count": 4,
   "id": "fe1c7f66-7205-476f-9483-1b8d6c1b58b9",
   "metadata": {},
   "outputs": [],
   "source": [
    "# load Numpy package\n",
    "import numpy as np"
   ]
  },
  {
   "cell_type": "code",
   "execution_count": 3,
   "id": "d0d03299-927f-437b-b6d7-010bdc3f038a",
   "metadata": {},
   "outputs": [],
   "source": [
    "#create two - dimensional array\n",
    "myArray = np.array([[10,20,30], [210, 220, 230]])"
   ]
  },
  {
   "cell_type": "code",
   "execution_count": 5,
   "id": "17b26e4d-69d6-49af-94c2-185b0d5d6e3c",
   "metadata": {},
   "outputs": [
    {
     "data": {
      "text/plain": [
       "array([[ 10,  20,  30],\n",
       "       [210, 220, 230]])"
      ]
     },
     "execution_count": 5,
     "metadata": {},
     "output_type": "execute_result"
    }
   ],
   "source": [
    "# Displays the array\n",
    "\n",
    "myArray"
   ]
  },
  {
   "cell_type": "code",
   "execution_count": 7,
   "id": "c6e7a322-750a-4b19-a498-4dedeb662386",
   "metadata": {},
   "outputs": [
    {
     "data": {
      "text/plain": [
       "(2, 3)"
      ]
     },
     "execution_count": 7,
     "metadata": {},
     "output_type": "execute_result"
    }
   ],
   "source": [
    "# Display the shape\n",
    "myArray.shape"
   ]
  },
  {
   "cell_type": "code",
   "execution_count": 8,
   "id": "107838d5-bf3e-473d-8897-62cf9560119f",
   "metadata": {},
   "outputs": [
    {
     "data": {
      "text/plain": [
       "6"
      ]
     },
     "execution_count": 8,
     "metadata": {},
     "output_type": "execute_result"
    }
   ],
   "source": [
    "# Display the size\n",
    "myArray.size"
   ]
  },
  {
   "attachments": {},
   "cell_type": "markdown",
   "id": "32d982cf-ccb6-4fa4-baae-e5197068a4a4",
   "metadata": {},
   "source": [
    "## Notes"
   ]
  },
  {
   "attachments": {},
   "cell_type": "markdown",
   "id": "62d589ca-3ca2-4920-8a1e-f14d28c27d21",
   "metadata": {},
   "source": [
    "# Array Functions"
   ]
  },
  {
   "cell_type": "code",
   "execution_count": 11,
   "id": "f36010cf-c6e5-4a21-9bbf-f0493c256dbc",
   "metadata": {},
   "outputs": [],
   "source": [
    "# create  array\n",
    "array1 = np.array([['a','a'],['b', 'b'], ['c' ,'c']])"
   ]
  },
  {
   "cell_type": "code",
   "execution_count": 21,
   "id": "71eb0283-c953-4701-999c-acfb7c0c3387",
   "metadata": {},
   "outputs": [
    {
     "data": {
      "text/plain": [
       "array([['a', 'a'],\n",
       "       ['b', 'b'],\n",
       "       ['c', 'c'],\n",
       "       ['z', 'z']], dtype='<U1')"
      ]
     },
     "execution_count": 21,
     "metadata": {},
     "output_type": "execute_result"
    }
   ],
   "source": [
    "# insert 'z's in row 3\n",
    "np.insert(array1, 3, 'z', axis=0)"
   ]
  },
  {
   "cell_type": "code",
   "execution_count": 23,
   "id": "f83546db-62fe-4200-a7b8-5c2f4a84d722",
   "metadata": {},
   "outputs": [
    {
     "data": {
      "text/plain": [
       "array([['a', '0', 'a'],\n",
       "       ['b', '0', 'b'],\n",
       "       ['c', '0', 'c']], dtype='<U1')"
      ]
     },
     "execution_count": 23,
     "metadata": {},
     "output_type": "execute_result"
    }
   ],
   "source": [
    "# insert 0s in colums 1\n",
    "np.insert(array1, 1, '0', axis=1)"
   ]
  },
  {
   "cell_type": "code",
   "execution_count": 25,
   "id": "70a8a79e-37f1-405f-ac3f-a41b30c772c9",
   "metadata": {},
   "outputs": [
    {
     "data": {
      "text/plain": [
       "array([['a', 'a'],\n",
       "       ['c', 'c']], dtype='<U1')"
      ]
     },
     "execution_count": 25,
     "metadata": {},
     "output_type": "execute_result"
    }
   ],
   "source": [
    "# delete row 1\n",
    "np.delete(array1, 1, axis=0)"
   ]
  },
  {
   "cell_type": "code",
   "execution_count": 26,
   "id": "535377aa-52d0-425c-a52f-ca9ecfaaee40",
   "metadata": {},
   "outputs": [
    {
     "data": {
      "text/plain": [
       "array([0., 0., 0.])"
      ]
     },
     "execution_count": 26,
     "metadata": {},
     "output_type": "execute_result"
    }
   ],
   "source": [
    "np.zeros(3)"
   ]
  },
  {
   "cell_type": "code",
   "execution_count": 27,
   "id": "0977962f-4be4-46f2-b75c-69344f13c8e1",
   "metadata": {},
   "outputs": [],
   "source": [
    "# Create another array2\n",
    "array2 = np.array(['z','b', 'a', 'd', 'c'])"
   ]
  },
  {
   "cell_type": "code",
   "execution_count": 28,
   "id": "7cbd0b52-a104-48c5-b2b2-6b3aaac898c2",
   "metadata": {},
   "outputs": [
    {
     "data": {
      "text/plain": [
       "array(['z', 'b', 'a', 'd', 'c'], dtype='<U1')"
      ]
     },
     "execution_count": 28,
     "metadata": {},
     "output_type": "execute_result"
    }
   ],
   "source": [
    "# Display the other array\n",
    "array2"
   ]
  },
  {
   "cell_type": "code",
   "execution_count": 29,
   "id": "15b2e3f5-fc92-49b0-93e2-f00f20f9f2ba",
   "metadata": {},
   "outputs": [
    {
     "data": {
      "text/plain": [
       "array(['a', 'b', 'c', 'd', 'z'], dtype='<U1')"
      ]
     },
     "execution_count": 29,
     "metadata": {},
     "output_type": "execute_result"
    }
   ],
   "source": [
    "# sort array2\n",
    "np.sort(array2, None)"
   ]
  },
  {
   "cell_type": "code",
   "execution_count": 31,
   "id": "1d6768d6-f9ba-4851-adca-107d58f11c8d",
   "metadata": {},
   "outputs": [
    {
     "data": {
      "text/plain": [
       "array(['z', 'a', 'd', 'c'], dtype='<U1')"
      ]
     },
     "execution_count": 31,
     "metadata": {},
     "output_type": "execute_result"
    }
   ],
   "source": [
    "# Delete array element with index 1\n",
    "\n",
    "np.delete(array2,1)"
   ]
  },
  {
   "cell_type": "code",
   "execution_count": 34,
   "id": "cb824fa3-4e5a-4dd1-856c-50f995a766e4",
   "metadata": {},
   "outputs": [
    {
     "data": {
      "text/plain": [
       "array([[3, 2],\n",
       "       [5, 6],\n",
       "       [4, 2]])"
      ]
     },
     "execution_count": 34,
     "metadata": {},
     "output_type": "execute_result"
    }
   ],
   "source": [
    "array3 = np.array([[3, 2], [5, 6], [4, 2]])\n",
    "array3"
   ]
  },
  {
   "cell_type": "code",
   "execution_count": 36,
   "id": "74c2417b-12ae-40e1-b86a-60804b1aed94",
   "metadata": {},
   "outputs": [
    {
     "data": {
      "text/plain": [
       "array([[3, 2],\n",
       "       [4, 2],\n",
       "       [5, 6]])"
      ]
     },
     "execution_count": 36,
     "metadata": {},
     "output_type": "execute_result"
    }
   ],
   "source": [
    "# sort along axis=0 which is the row\n",
    "\n",
    "np.sort(array3, axis=0)"
   ]
  },
  {
   "cell_type": "code",
   "execution_count": 37,
   "id": "d607c833-067b-4885-a37a-d3c71a89415f",
   "metadata": {},
   "outputs": [
    {
     "data": {
      "text/plain": [
       "array([[2, 3],\n",
       "       [5, 6],\n",
       "       [2, 4]])"
      ]
     },
     "execution_count": 37,
     "metadata": {},
     "output_type": "execute_result"
    }
   ],
   "source": [
    "# sort along axis=1 which is the column\n",
    "np.sort(array3, axis=1)"
   ]
  },
  {
   "attachments": {},
   "cell_type": "markdown",
   "id": "20936b7a-49ed-4ca6-9007-e4159dbe1a5e",
   "metadata": {},
   "source": [
    "# Notes"
   ]
  },
  {
   "attachments": {},
   "cell_type": "markdown",
   "id": "dc66cf12-7c50-45c7-b103-c567d83d4f22",
   "metadata": {},
   "source": [
    "# Shape functions\n",
    "\n"
   ]
  },
  {
   "cell_type": "code",
   "execution_count": 38,
   "id": "1a148d63-a6a2-44e2-8ea0-74732ba6478e",
   "metadata": {},
   "outputs": [
    {
     "data": {
      "text/plain": [
       "array([[1, 2],\n",
       "       [3, 4]])"
      ]
     },
     "execution_count": 38,
     "metadata": {},
     "output_type": "execute_result"
    }
   ],
   "source": [
    "array1 = np.array([[1,2],[3,4]])\n",
    "array1"
   ]
  },
  {
   "cell_type": "code",
   "execution_count": 46,
   "id": "61ca06be-c5db-4210-9870-0faa1b6bd351",
   "metadata": {},
   "outputs": [
    {
     "data": {
      "text/plain": [
       "array([[1, 2, 3, 4]])"
      ]
     },
     "execution_count": 46,
     "metadata": {},
     "output_type": "execute_result"
    }
   ],
   "source": [
    "# Return a flattened array\n",
    "np.reshape(array1, (1,4)) # one row with 4 columns"
   ]
  },
  {
   "cell_type": "code",
   "execution_count": 47,
   "id": "800b78e9-09e3-4fe5-8501-828084f57d1d",
   "metadata": {},
   "outputs": [
    {
     "data": {
      "text/plain": [
       "array([[1, 2],\n",
       "       [3, 4],\n",
       "       [5, 6]])"
      ]
     },
     "execution_count": 47,
     "metadata": {},
     "output_type": "execute_result"
    }
   ],
   "source": [
    "# create another array\n",
    "array2 = np.array([[1,2],[3,4], [5,6]])\n",
    "array2"
   ]
  },
  {
   "cell_type": "code",
   "execution_count": 48,
   "id": "d67d56b0-2a17-4a1a-a8aa-2fd0d8a58a62",
   "metadata": {},
   "outputs": [
    {
     "data": {
      "text/plain": [
       "array([1, 2, 3, 4, 5, 6])"
      ]
     },
     "execution_count": 48,
     "metadata": {},
     "output_type": "execute_result"
    }
   ],
   "source": [
    "# Return a flattened array\n",
    "np.ravel(array2)"
   ]
  },
  {
   "cell_type": "code",
   "execution_count": 49,
   "id": "b87b7345-80ea-4dda-b7bd-5d954aab56cb",
   "metadata": {},
   "outputs": [
    {
     "data": {
      "text/plain": [
       "array([[1, 2, 3],\n",
       "       [4, 5, 6]])"
      ]
     },
     "execution_count": 49,
     "metadata": {},
     "output_type": "execute_result"
    }
   ],
   "source": [
    "# Resize array to a 2 by 3 array\n",
    "np.resize(array2, (2,3))"
   ]
  },
  {
   "cell_type": "code",
   "execution_count": 51,
   "id": "e5b158fa-1419-4a4b-b053-98ece4db7675",
   "metadata": {},
   "outputs": [
    {
     "data": {
      "text/plain": [
       "array([[1, 3, 5],\n",
       "       [2, 4, 6]])"
      ]
     },
     "execution_count": 51,
     "metadata": {},
     "output_type": "execute_result"
    }
   ],
   "source": [
    "# Transpose the array\n",
    "\n",
    "np.transpose(array2)"
   ]
  },
  {
   "attachments": {},
   "cell_type": "markdown",
   "id": "031f34c8-fb73-4cab-9727-d688cfc0559b",
   "metadata": {},
   "source": [
    "# Math operators and funtions"
   ]
  },
  {
   "cell_type": "code",
   "execution_count": 52,
   "id": "2f837706-d4ee-46ec-9593-33300f40b4d1",
   "metadata": {},
   "outputs": [
    {
     "data": {
      "text/plain": [
       "array([[1, 2],\n",
       "       [3, 4]])"
      ]
     },
     "execution_count": 52,
     "metadata": {},
     "output_type": "execute_result"
    }
   ],
   "source": [
    "# create array1\n",
    "array1 = np.array([[1,2],[3,4]])\n",
    "array1"
   ]
  },
  {
   "cell_type": "code",
   "execution_count": 53,
   "id": "3b96862f-51c5-4c8b-859a-b308774aa20a",
   "metadata": {},
   "outputs": [
    {
     "data": {
      "text/plain": [
       "array([[5, 6],\n",
       "       [7, 8]])"
      ]
     },
     "execution_count": 53,
     "metadata": {},
     "output_type": "execute_result"
    }
   ],
   "source": [
    "# create another array2\n",
    "array2 = np.array([[5,6],[7,8]])\n",
    "array2"
   ]
  },
  {
   "cell_type": "code",
   "execution_count": 54,
   "id": "e210a489-515b-47d4-9497-e6020dc7ee6f",
   "metadata": {},
   "outputs": [
    {
     "data": {
      "text/plain": [
       "array([[ 6,  8],\n",
       "       [10, 12]])"
      ]
     },
     "execution_count": 54,
     "metadata": {},
     "output_type": "execute_result"
    }
   ],
   "source": [
    "# Add array1 and array2\n",
    "array1 + array2"
   ]
  },
  {
   "cell_type": "code",
   "execution_count": 55,
   "id": "38ca2291-800e-4581-b959-7592735f96bd",
   "metadata": {},
   "outputs": [
    {
     "data": {
      "text/plain": [
       "array([[-4, -4],\n",
       "       [-4, -4]])"
      ]
     },
     "execution_count": 55,
     "metadata": {},
     "output_type": "execute_result"
    }
   ],
   "source": [
    "# Substract array1 - array2\n",
    "array1 - array2\n"
   ]
  },
  {
   "cell_type": "code",
   "execution_count": 57,
   "id": "0ae1e4d9-4af1-451e-91b1-2ef0961e394d",
   "metadata": {},
   "outputs": [
    {
     "data": {
      "text/plain": [
       "array([[ 5, 12],\n",
       "       [21, 32]])"
      ]
     },
     "execution_count": 57,
     "metadata": {},
     "output_type": "execute_result"
    }
   ],
   "source": [
    "# multiply array1 and array2\n",
    "array1 * array2"
   ]
  },
  {
   "cell_type": "code",
   "execution_count": 58,
   "id": "74c04f35-b3ed-432a-a564-f0e9fa6e657d",
   "metadata": {},
   "outputs": [
    {
     "data": {
      "text/plain": [
       "array([[0.2       , 0.33333333],\n",
       "       [0.42857143, 0.5       ]])"
      ]
     },
     "execution_count": 58,
     "metadata": {},
     "output_type": "execute_result"
    }
   ],
   "source": [
    "# Divide array / array\n",
    "array1 / array2"
   ]
  },
  {
   "cell_type": "code",
   "execution_count": 59,
   "id": "6cb8cc50-144c-4a5d-832f-1ef4bb1ace20",
   "metadata": {},
   "outputs": [
    {
     "data": {
      "text/plain": [
       "array([[2.23606798, 2.44948974],\n",
       "       [2.64575131, 2.82842712]])"
      ]
     },
     "execution_count": 59,
     "metadata": {},
     "output_type": "execute_result"
    }
   ],
   "source": [
    "# find square root of array 2 elements\n",
    "np.sqrt(array2)"
   ]
  },
  {
   "cell_type": "code",
   "execution_count": 61,
   "id": "b8ed2252-40fe-4be9-a465-39c55ac0c9b9",
   "metadata": {},
   "outputs": [
    {
     "data": {
      "text/plain": [
       "array([[0.        , 0.69314718],\n",
       "       [1.09861229, 1.38629436]])"
      ]
     },
     "execution_count": 61,
     "metadata": {},
     "output_type": "execute_result"
    }
   ],
   "source": [
    "# find log of array 1 elements\n",
    "np.log(array1)"
   ]
  },
  {
   "cell_type": "code",
   "execution_count": 63,
   "id": "f3d1d018-9cd7-4dae-911b-f15eee78621c",
   "metadata": {},
   "outputs": [
    {
     "data": {
      "text/plain": [
       "array([[19, 22],\n",
       "       [43, 50]])"
      ]
     },
     "execution_count": 63,
     "metadata": {},
     "output_type": "execute_result"
    }
   ],
   "source": [
    "# find the dot product of the two arrays\n",
    "np.dot(array1, array2)"
   ]
  },
  {
   "cell_type": "code",
   "execution_count": 64,
   "id": "6d640d02-8ff2-44a7-90d6-057c8d6e21ba",
   "metadata": {},
   "outputs": [
    {
     "data": {
      "text/plain": [
       "4"
      ]
     },
     "execution_count": 64,
     "metadata": {},
     "output_type": "execute_result"
    }
   ],
   "source": [
    "# find the max element\n",
    "np.max(array1)"
   ]
  },
  {
   "cell_type": "code",
   "execution_count": 65,
   "id": "3e6f47cd-3890-4cba-bb01-28ec402ed2c7",
   "metadata": {},
   "outputs": [
    {
     "data": {
      "text/plain": [
       "6.5"
      ]
     },
     "execution_count": 65,
     "metadata": {},
     "output_type": "execute_result"
    }
   ],
   "source": [
    "# Find the median\n",
    "np.median(array2)"
   ]
  },
  {
   "cell_type": "code",
   "execution_count": 67,
   "id": "daaba14d-8219-447c-a0d1-9a187df950d3",
   "metadata": {},
   "outputs": [
    {
     "data": {
      "text/plain": [
       "1.118033988749895"
      ]
     },
     "execution_count": 67,
     "metadata": {},
     "output_type": "execute_result"
    }
   ],
   "source": [
    "# find std\n",
    "np.std(array1)"
   ]
  },
  {
   "cell_type": "code",
   "execution_count": 68,
   "id": "048f3a20-4a62-458d-bb39-18cd1fc80541",
   "metadata": {},
   "outputs": [
    {
     "data": {
      "text/plain": [
       "array([[19, 22],\n",
       "       [43, 50]])"
      ]
     },
     "execution_count": 68,
     "metadata": {},
     "output_type": "execute_result"
    }
   ],
   "source": [
    "# Matrix funtions\n",
    "np.matmul(array1, array2)\n",
    "\n"
   ]
  },
  {
   "attachments": {},
   "cell_type": "markdown",
   "id": "f85c2dfa-2cce-4a3d-b1a9-2efc38c0a5cc",
   "metadata": {},
   "source": []
  }
 ],
 "metadata": {
  "kernelspec": {
   "display_name": "Python 3 (ipykernel)",
   "language": "python",
   "name": "python3"
  },
  "language_info": {
   "codemirror_mode": {
    "name": "ipython",
    "version": 3
   },
   "file_extension": ".py",
   "mimetype": "text/x-python",
   "name": "python",
   "nbconvert_exporter": "python",
   "pygments_lexer": "ipython3",
   "version": "3.9.7"
  }
 },
 "nbformat": 4,
 "nbformat_minor": 5
}
